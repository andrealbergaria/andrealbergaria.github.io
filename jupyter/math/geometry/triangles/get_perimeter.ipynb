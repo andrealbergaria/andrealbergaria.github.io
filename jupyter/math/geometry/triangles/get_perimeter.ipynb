{
 "cells": [
  {
   "cell_type": "markdown",
   "id": "94fd76c3",
   "metadata": {},
   "source": [
    "<script type=\"text/javascript\" charset=\"utf-8\" \n",
    "src=\"https://cdn.mathjax.org/mathjax/latest/MathJax.js?config=TeX-AMS-MML_HTMLorMML,\n",
    "https://vincenttam.github.io/javascripts/MathJaxLocal.js\"></script>\n"
   ]
  },
  {
   "cell_type": "markdown",
   "id": "19790bc0",
   "metadata": {},
   "source": [
    "<div style=\"text-align:center;font-family:arial;font-size:26pt;\"> Summing x to square diagonal</div>"
   ]
  },
  {
   "cell_type": "markdown",
   "id": "b232843f",
   "metadata": {},
   "source": [
    "\n",
    "<div style=\"text-align: center;\">\n",
    "<img src=\"rectangle_square.png\" alt=\"rectangle R\" width=\"300\" height=\"150\"/>\n",
    "   </div>"
   ]
  },
  {
   "cell_type": "markdown",
   "id": "384bcbf2",
   "metadata": {},
   "source": [
    "\n",
    "<div style=\"text-align: center; font-size: 24px; font-weight: bold;\">\n",
    "Formulas\n",
    "</div>\n",
    "\n",
    "<u>binomial expansion</u>\n",
    "\n",
    "\\\\( x^2 \\\\)\n",
    "\n",
    "\n",
    "$(x_2−x_1)^2 = x_2^2−2x_2\\,\\,x_1+(x_1)^2$\n",
    "\n",
    "<u>euclidean formula for distance</u>\n",
    "\n",
    "$ \\sqrt{(x_2 - x_1)^2 + (y_2 - y_1)^2}$ \n",
    "\n",
    "<u>Pythagoras theorem</u>\n",
    "\n",
    "$a^2 = b^2 + c^2$\n",
    "\n",
    "<u> Formula for diagonal of square</u>\n",
    "\n",
    "$side * \\sqrt{2}$\n",
    "\n",
    "<u> Formula for hipotenuse (it's the diagonal) </u>\n",
    "\n",
    "$L_{square} = \\sqrt{ {(x_2 - x_1)}^2 + {(y_2 - y_1)}^2}$\n",
    "\n",
    "<div style=\"text-align: center; font-size: 24px; font-weight: bold;\">\n",
    "End Formulas\n",
    "</div>\n"
   ]
  },
  {
   "cell_type": "markdown",
   "id": "034c6c62",
   "metadata": {},
   "source": [
    "\n",
    "<div style=\"font-weight:bold; text-aling:center; font-size:20px;\"> Options</div>\n",
    "\n",
    "A) calculate distance, and subtract difference,using Euclidean formula. \n",
    "Sum X to $L_{square}$ , and get $L_{rectangle}$. Only difference between square and rectangle, is that rectangle , has a bigger height.\n",
    "\n",
    "B) use pythagoras theorem\n",
    "\n"
   ]
  },
  {
   "cell_type": "markdown",
   "id": "dcc2aa13",
   "metadata": {},
   "source": [
    "<div style=\"font-size:16pt;text-align:center\">Option A (distance)</div>"
   ]
  },
  {
   "cell_type": "markdown",
   "id": "746b99e8",
   "metadata": {},
   "source": [
    "base of rectangle ,equals base of square. That base is 3.\n"
   ]
  },
  {
   "cell_type": "markdown",
   "id": "8a095b0b",
   "metadata": {},
   "source": [
    "$L_{rectangle} = L_{square} + w$\n",
    "\n",
    "$w = L_{rectangle} - L_{square}$ \n",
    "\n",
    "Couldnt make a simplification, too many calculus..we are left with pythagoras."
   ]
  },
  {
   "cell_type": "markdown",
   "id": "08243a15",
   "metadata": {},
   "source": [
    "$x_2$,$x_1$,$y_1$,$y_2$ , are equal on formula\n",
    "\n",
    "$w =  \\sqrt{(x_2 - x_1)^2 + (y_2 - y_1+k)^2} - \\sqrt{(x_2-x_1)^2 + (y_2 - y_1)^2} $\n"
   ]
  },
  {
   "cell_type": "markdown",
   "id": "38105579",
   "metadata": {},
   "source": [
    "<div style=\"font-size:16pt;text-align:center\">Option B (pythagoras)</div>"
   ]
  },
  {
   "cell_type": "markdown",
   "id": "722be48b",
   "metadata": {},
   "source": [
    "Assuming\n",
    "\n",
    "baseRectangle = 3\n",
    "   \n",
    "heightRectangle = 5\n",
    "\n",
    "$ (L_{square} + x)^2 = {base_{rectangle}}^2 + {height_{rectangle}}^2$\n",
    "\n",
    "$ x = \\sqrt{{base_{rectangle}}^2 + {height_{rectangle}}^2} - L_{square}$\n",
    "\n",
    "$ x = \\sqrt{{base_{rectangle}}^2 + {height_{rectangle}}^2} - (side * \\sqrt{2})$\n",
    "\n",
    "$ x = \\sqrt{34} - (3*\\sqrt{2})$\n",
    "\n",
    "$ x = 5.830951895 - 4.242640687$\n",
    "\n",
    "$ x = 1.588311208$\n"
   ]
  },
  {
   "cell_type": "markdown",
   "id": "6440a77c",
   "metadata": {},
   "source": [
    "<div style=\"text-align:center;font-family:arial;font-size:26pt;\"> Calculate angles and sides </div>"
   ]
  },
  {
   "cell_type": "markdown",
   "id": "0f3aa9e9",
   "metadata": {},
   "source": [
    "\n",
    "<div style=\"text-align: center;\">\n",
    "<img src=\"two_triangles_on_rectangle.png\" width=\"50%\" heigth=\"30%\">\n",
    "</div>"
   ]
  },
  {
   "cell_type": "markdown",
   "id": "84738147",
   "metadata": {},
   "source": [
    "<div style=\"text-align:center; font-size:20pt;  text-decoration: underline;\">Partial from chat gpt...</div>"
   ]
  },
  {
   "cell_type": "markdown",
   "id": "aaf351f2",
   "metadata": {},
   "source": [
    "Area $\\text{T}_1 = \\frac{1}{2}$* C * B\n",
    "\n",
    "Area $\\text{T}_2 = \\frac{1}{2}$* A * D\n",
    "\n",
    "Area T_1 = Area T_2 <=> $C*B = A*D$"
   ]
  },
  {
   "cell_type": "markdown",
   "id": "bc432bef",
   "metadata": {},
   "source": [
    "\n",
    "Triangle T_1 \n",
    "\n",
    "$H^2 = A^2 + D^2 $\n",
    "\n",
    "Triangle T_2\n",
    "\n",
    "$H^2 = C^2 + B^2$\n",
    "\n",
    "Same hipotenuse."
   ]
  },
  {
   "cell_type": "markdown",
   "id": "f83c53ab",
   "metadata": {},
   "source": [
    "$\\Theta_1 = \\arctan(\\frac{B}{C})$\n",
    "\n",
    "$\\Theta_2 = \\arctan(\\frac{D}{A})$\n",
    "\n",
    "If we have the hipotenuse, we can calculate, any leg. We can use my formula.\n",
    "\n",
    "$C^2 + B^2 = H^2$\n",
    "\n",
    "So we have, C*B (area of $T_1$), and $C^2 + B^2 = H^2$.\n",
    "\n",
    "By using this system, we can know A,B,C and D.\n",
    "\n"
   ]
  }
 ],
 "metadata": {
  "kernelspec": {
   "display_name": "Python 3 (ipykernel)",
   "language": "python",
   "name": "python3"
  },
  "language_info": {
   "codemirror_mode": {
    "name": "ipython",
    "version": 3
   },
   "file_extension": ".py",
   "mimetype": "text/x-python",
   "name": "python",
   "nbconvert_exporter": "python",
   "pygments_lexer": "ipython3",
   "version": "3.11.2"
  }
 },
 "nbformat": 4,
 "nbformat_minor": 5
}
